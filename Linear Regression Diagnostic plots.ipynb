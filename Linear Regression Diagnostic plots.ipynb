{
  "nbformat": 4,
  "nbformat_minor": 0,
  "metadata": {
    "colab": {
      "provenance": []
    },
    "kernelspec": {
      "name": "python3",
      "display_name": "Python 3"
    },
    "language_info": {
      "name": "python"
    }
  },
  "cells": [
    {
      "cell_type": "markdown",
      "source": [
        "# Regression Diagnostic Plots"
      ],
      "metadata": {
        "id": "9b8ohH2BzVaJ"
      }
    },
    {
      "cell_type": "code",
      "execution_count": 1,
      "metadata": {
        "id": "6weewSXJzP8O"
      },
      "outputs": [],
      "source": [
        "import statsmodels\n",
        "import statsmodels.api as sm\n",
        "import pandas as pd\n",
        "import numpy as np\n",
        "from matplotlib import pyplot as plt"
      ]
    },
    {
      "cell_type": "markdown",
      "source": [
        "## Sample Data\n",
        "\n",
        "Load California housing data (we need more data...)"
      ],
      "metadata": {
        "id": "Q_rug3n_8HBl"
      }
    },
    {
      "cell_type": "markdown",
      "source": [
        "### Import from sklearn"
      ],
      "metadata": {
        "id": "Qz9vg3Nb8Nn1"
      }
    },
    {
      "cell_type": "code",
      "source": [
        "from sklearn.datasets import fetch_california_housing\n",
        "housing = fetch_california_housing()"
      ],
      "metadata": {
        "id": "aOXz4EdXzy-A"
      },
      "execution_count": 2,
      "outputs": []
    },
    {
      "cell_type": "markdown",
      "source": [
        "### Inspect dataset"
      ],
      "metadata": {
        "id": "gYOSFrvq8PtQ"
      }
    },
    {
      "cell_type": "code",
      "source": [
        "housing"
      ],
      "metadata": {
        "colab": {
          "base_uri": "https://localhost:8080/"
        },
        "id": "bdiWWBzy3sgv",
        "outputId": "ab39e665-7302-4c82-c02d-d48925ba1f22"
      },
      "execution_count": 3,
      "outputs": [
        {
          "output_type": "execute_result",
          "data": {
            "text/plain": [
              "{'data': array([[   8.3252    ,   41.        ,    6.98412698, ...,    2.55555556,\n",
              "           37.88      , -122.23      ],\n",
              "        [   8.3014    ,   21.        ,    6.23813708, ...,    2.10984183,\n",
              "           37.86      , -122.22      ],\n",
              "        [   7.2574    ,   52.        ,    8.28813559, ...,    2.80225989,\n",
              "           37.85      , -122.24      ],\n",
              "        ...,\n",
              "        [   1.7       ,   17.        ,    5.20554273, ...,    2.3256351 ,\n",
              "           39.43      , -121.22      ],\n",
              "        [   1.8672    ,   18.        ,    5.32951289, ...,    2.12320917,\n",
              "           39.43      , -121.32      ],\n",
              "        [   2.3886    ,   16.        ,    5.25471698, ...,    2.61698113,\n",
              "           39.37      , -121.24      ]]),\n",
              " 'target': array([4.526, 3.585, 3.521, ..., 0.923, 0.847, 0.894]),\n",
              " 'frame': None,\n",
              " 'target_names': ['MedHouseVal'],\n",
              " 'feature_names': ['MedInc',\n",
              "  'HouseAge',\n",
              "  'AveRooms',\n",
              "  'AveBedrms',\n",
              "  'Population',\n",
              "  'AveOccup',\n",
              "  'Latitude',\n",
              "  'Longitude'],\n",
              " 'DESCR': '.. _california_housing_dataset:\\n\\nCalifornia Housing dataset\\n--------------------------\\n\\n**Data Set Characteristics:**\\n\\n    :Number of Instances: 20640\\n\\n    :Number of Attributes: 8 numeric, predictive attributes and the target\\n\\n    :Attribute Information:\\n        - MedInc        median income in block group\\n        - HouseAge      median house age in block group\\n        - AveRooms      average number of rooms per household\\n        - AveBedrms     average number of bedrooms per household\\n        - Population    block group population\\n        - AveOccup      average number of household members\\n        - Latitude      block group latitude\\n        - Longitude     block group longitude\\n\\n    :Missing Attribute Values: None\\n\\nThis dataset was obtained from the StatLib repository.\\nhttps://www.dcc.fc.up.pt/~ltorgo/Regression/cal_housing.html\\n\\nThe target variable is the median house value for California districts,\\nexpressed in hundreds of thousands of dollars ($100,000).\\n\\nThis dataset was derived from the 1990 U.S. census, using one row per census\\nblock group. A block group is the smallest geographical unit for which the U.S.\\nCensus Bureau publishes sample data (a block group typically has a population\\nof 600 to 3,000 people).\\n\\nAn household is a group of people residing within a home. Since the average\\nnumber of rooms and bedrooms in this dataset are provided per household, these\\ncolumns may take surpinsingly large values for block groups with few households\\nand many empty houses, such as vacation resorts.\\n\\nIt can be downloaded/loaded using the\\n:func:`sklearn.datasets.fetch_california_housing` function.\\n\\n.. topic:: References\\n\\n    - Pace, R. Kelley and Ronald Barry, Sparse Spatial Autoregressions,\\n      Statistics and Probability Letters, 33 (1997) 291-297\\n'}"
            ]
          },
          "metadata": {},
          "execution_count": 3
        }
      ]
    },
    {
      "cell_type": "markdown",
      "source": [
        "## Train regression model"
      ],
      "metadata": {
        "id": "4dlIOLX68cBp"
      }
    },
    {
      "cell_type": "code",
      "source": [
        "X = housing['data']\n",
        "X = sm.add_constant(X)\n",
        "y = housing['target']\n",
        "res = sm.OLS(y, X).fit()"
      ],
      "metadata": {
        "id": "WYZ5AeoAz1W5"
      },
      "execution_count": 4,
      "outputs": []
    },
    {
      "cell_type": "code",
      "source": [
        "print(res.summary())"
      ],
      "metadata": {
        "colab": {
          "base_uri": "https://localhost:8080/"
        },
        "id": "4e62b71z4JcD",
        "outputId": "2d2450c4-fa5f-4739-d79d-caf76c2618c3"
      },
      "execution_count": 5,
      "outputs": [
        {
          "output_type": "stream",
          "name": "stdout",
          "text": [
            "                            OLS Regression Results                            \n",
            "==============================================================================\n",
            "Dep. Variable:                      y   R-squared:                       0.606\n",
            "Model:                            OLS   Adj. R-squared:                  0.606\n",
            "Method:                 Least Squares   F-statistic:                     3970.\n",
            "Date:                Thu, 24 Nov 2022   Prob (F-statistic):               0.00\n",
            "Time:                        14:02:52   Log-Likelihood:                -22624.\n",
            "No. Observations:               20640   AIC:                         4.527e+04\n",
            "Df Residuals:                   20631   BIC:                         4.534e+04\n",
            "Df Model:                           8                                         \n",
            "Covariance Type:            nonrobust                                         \n",
            "==============================================================================\n",
            "                 coef    std err          t      P>|t|      [0.025      0.975]\n",
            "------------------------------------------------------------------------------\n",
            "const        -36.9419      0.659    -56.067      0.000     -38.233     -35.650\n",
            "x1             0.4367      0.004    104.054      0.000       0.428       0.445\n",
            "x2             0.0094      0.000     21.143      0.000       0.009       0.010\n",
            "x3            -0.1073      0.006    -18.235      0.000      -0.119      -0.096\n",
            "x4             0.6451      0.028     22.928      0.000       0.590       0.700\n",
            "x5         -3.976e-06   4.75e-06     -0.837      0.402   -1.33e-05    5.33e-06\n",
            "x6            -0.0038      0.000     -7.769      0.000      -0.005      -0.003\n",
            "x7            -0.4213      0.007    -58.541      0.000      -0.435      -0.407\n",
            "x8            -0.4345      0.008    -57.682      0.000      -0.449      -0.420\n",
            "==============================================================================\n",
            "Omnibus:                     4393.650   Durbin-Watson:                   0.885\n",
            "Prob(Omnibus):                  0.000   Jarque-Bera (JB):            14087.596\n",
            "Skew:                           1.082   Prob(JB):                         0.00\n",
            "Kurtosis:                       6.420   Cond. No.                     2.38e+05\n",
            "==============================================================================\n",
            "\n",
            "Notes:\n",
            "[1] Standard Errors assume that the covariance matrix of the errors is correctly specified.\n",
            "[2] The condition number is large, 2.38e+05. This might indicate that there are\n",
            "strong multicollinearity or other numerical problems.\n"
          ]
        }
      ]
    },
    {
      "cell_type": "markdown",
      "source": [
        "## Create Diagnostic Plots"
      ],
      "metadata": {
        "id": "EhL0lQbG8g3R"
      }
    },
    {
      "cell_type": "markdown",
      "source": [
        "### Base Code"
      ],
      "metadata": {
        "id": "MzISVQl21KWQ"
      }
    },
    {
      "cell_type": "code",
      "source": [
        "# Source: https://github.com/statsmodels/statsmodels/blob/main/examples/notebooks/linear_regression_diagnostics_plots.ipynb\n",
        "\n",
        "# base code\n",
        "import numpy as np\n",
        "import seaborn as sns\n",
        "from statsmodels.tools.tools import maybe_unwrap_results\n",
        "from statsmodels.graphics.gofplots import ProbPlot\n",
        "from statsmodels.stats.outliers_influence import variance_inflation_factor\n",
        "import matplotlib.pyplot as plt\n",
        "from typing import Type\n",
        "\n",
        "style_talk = 'seaborn-talk'    #refer to plt.style.available\n",
        "\n",
        "class Linear_Reg_Diagnostic():\n",
        "    \"\"\"\n",
        "    Diagnostic plots to identify potential problems in a linear regression fit.\n",
        "    Mainly,\n",
        "        a. non-linearity of data\n",
        "        b. Correlation of error terms\n",
        "        c. non-constant variance \n",
        "        d. outliers\n",
        "        e. high-leverage points\n",
        "        f. collinearity\n",
        "\n",
        "    Author:\n",
        "        Prajwal Kafle (p33ajkafle@gmail.com, where 3 = r)\n",
        "        Does not come with any sort of warranty. \n",
        "        Please test the code one your end before using.\n",
        "    \"\"\"\n",
        "\n",
        "    def __init__(self, \n",
        "                 results: Type[statsmodels.regression.linear_model.RegressionResultsWrapper]) -> None:\n",
        "        \"\"\"\n",
        "        For a linear regression model, generates following diagnostic plots:\n",
        "\n",
        "        a. residual\n",
        "        b. qq\n",
        "        c. scale location and\n",
        "        d. leverage\n",
        "\n",
        "        and a table\n",
        "\n",
        "        e. vif\n",
        "\n",
        "        Args:\n",
        "            results (Type[statsmodels.regression.linear_model.RegressionResultsWrapper]): \n",
        "                must be instance of statsmodels.regression.linear_model object\n",
        "\n",
        "        Raises:\n",
        "            TypeError: if instance does not belong to above object\n",
        "\n",
        "        Example:\n",
        "        >>> import numpy as np\n",
        "        >>> import pandas as pd\n",
        "        >>> import statsmodels.formula.api as smf\n",
        "        >>> x = np.linspace(-np.pi, np.pi, 100)\n",
        "        >>> y = 3*x + 8 + np.random.normal(0,1, 100)\n",
        "        >>> df = pd.DataFrame({'x':x, 'y':y})\n",
        "        >>> res = smf.ols(formula= \"y ~ x\", data=df).fit()\n",
        "        >>> cls = Linear_Reg_Diagnostic(res)\n",
        "        >>> cls(plot_context=\"seaborn-paper\")     \n",
        "\n",
        "        In case you do not need all plots you can also independently make an individual plot/table\n",
        "        in following ways\n",
        "\n",
        "        >>> cls = Linear_Reg_Diagnostic(res)\n",
        "        >>> cls.residual_plot()\n",
        "        >>> cls.qq_plot()\n",
        "        >>> cls.scale_location_plot()\n",
        "        >>> cls.leverage_plot()\n",
        "        >>> cls.vif_table()\n",
        "        \"\"\"\n",
        "\n",
        "        if isinstance(results, statsmodels.regression.linear_model.RegressionResultsWrapper) is False:\n",
        "            raise TypeError(\"result must be instance of statsmodels.regression.linear_model.RegressionResultsWrapper object\")\n",
        "\n",
        "        self.results = maybe_unwrap_results(results)\n",
        "\n",
        "        self.y_true = self.results.model.endog\n",
        "        self.y_predict = self.results.fittedvalues\n",
        "        self.xvar = self.results.model.exog\n",
        "        self.xvar_names = self.results.model.exog_names\n",
        "\n",
        "        self.residual = np.array(self.results.resid)\n",
        "        influence = self.results.get_influence()\n",
        "        self.residual_norm = influence.resid_studentized_internal\n",
        "        self.leverage = influence.hat_matrix_diag\n",
        "        self.cooks_distance = influence.cooks_distance[0]\n",
        "        self.nparams = len(self.results.params)\n",
        "\n",
        "    def __call__(self, plot_context='seaborn-paper'):\n",
        "        # print(plt.style.available)\n",
        "        with plt.style.context(plot_context):\n",
        "            fig, ax = plt.subplots(nrows=2, ncols=2, figsize=(10,10))\n",
        "            self.residual_plot(ax=ax[0,0])\n",
        "            self.qq_plot(ax=ax[0,1])\n",
        "            self.scale_location_plot(ax=ax[1,0])\n",
        "            self.leverage_plot(ax=ax[1,1])\n",
        "            plt.show()\n",
        "        \n",
        "        self.vif_table()\n",
        "        return fig, ax\n",
        "\n",
        "\n",
        "    def residual_plot(self, ax=None):\n",
        "        \"\"\"\n",
        "        Residual vs Fitted Plot\n",
        "\n",
        "        Graphical tool to identify non-linearity.\n",
        "        (Roughly) Horizontal red line is an indicator that the residual has a linear pattern\n",
        "        \"\"\"\n",
        "        if ax is None:\n",
        "            fig, ax = plt.subplots()\n",
        "\n",
        "        sns.residplot(\n",
        "            x=self.y_predict, \n",
        "            y=self.residual, \n",
        "            lowess=True,\n",
        "            scatter_kws={'alpha': 0.5},\n",
        "            line_kws={'color': 'red', 'lw': 1, 'alpha': 0.8}, \n",
        "            ax=ax)\n",
        "\n",
        "        # annotations\n",
        "        residual_abs = np.abs(self.residual)\n",
        "        abs_resid = np.flip(np.sort(residual_abs))\n",
        "        abs_resid_top_3 = abs_resid[:3]\n",
        "        for i, _ in enumerate(abs_resid_top_3):\n",
        "            ax.annotate(\n",
        "                i, \n",
        "                xy=(self.y_predict[i], self.residual[i]), \n",
        "                color='C3')\n",
        "\n",
        "        ax.set_title('Residuals vs Fitted', fontweight=\"bold\")\n",
        "        ax.set_xlabel('Fitted values')\n",
        "        ax.set_ylabel('Residuals')\n",
        "        return ax\n",
        "\n",
        "    def qq_plot(self, ax=None):\n",
        "        \"\"\"\n",
        "        Standarized Residual vs Theoretical Quantile plot\n",
        "\n",
        "        Used to visually check if residuals are normally distributed.\n",
        "        Points spread along the diagonal line will suggest so.\n",
        "        \"\"\"\n",
        "        if ax is None:\n",
        "            fig, ax = plt.subplots()\n",
        "        \n",
        "        QQ = ProbPlot(self.residual_norm)\n",
        "        QQ.qqplot(line='45', alpha=0.5, lw=1, ax=ax)\n",
        "\n",
        "        # annotations\n",
        "        abs_norm_resid = np.flip(np.argsort(np.abs(self.residual_norm)), 0)\n",
        "        abs_norm_resid_top_3 = abs_norm_resid[:3]\n",
        "        for r, i in enumerate(abs_norm_resid_top_3):\n",
        "            ax.annotate(\n",
        "                i, \n",
        "                xy=(np.flip(QQ.theoretical_quantiles, 0)[r], self.residual_norm[i]), \n",
        "                ha='right', color='C3')\n",
        "\n",
        "        ax.set_title('Normal Q-Q', fontweight=\"bold\")\n",
        "        ax.set_xlabel('Theoretical Quantiles')\n",
        "        ax.set_ylabel('Standardized Residuals')\n",
        "        return ax\n",
        "  \n",
        "    def scale_location_plot(self, ax=None):\n",
        "        \"\"\"\n",
        "        Sqrt(Standarized Residual) vs Fitted values plot\n",
        "\n",
        "        Used to check homoscedasticity of the residuals.\n",
        "        Horizontal line will suggest so.\n",
        "        \"\"\"\n",
        "        if ax is None:\n",
        "            fig, ax = plt.subplots()\n",
        "\n",
        "        residual_norm_abs_sqrt = np.sqrt(np.abs(self.residual_norm))\n",
        "\n",
        "        ax.scatter(self.y_predict, residual_norm_abs_sqrt, alpha=0.5);\n",
        "        sns.regplot(\n",
        "            x=self.y_predict, \n",
        "            y=residual_norm_abs_sqrt,\n",
        "            scatter=False, ci=False,\n",
        "            lowess=True,\n",
        "            line_kws={'color': 'red', 'lw': 1, 'alpha': 0.8}, \n",
        "            ax=ax)\n",
        "\n",
        "        # annotations\n",
        "        abs_sq_norm_resid = np.flip(np.argsort(residual_norm_abs_sqrt), 0)\n",
        "        abs_sq_norm_resid_top_3 = abs_sq_norm_resid[:3]\n",
        "        for i in abs_sq_norm_resid_top_3:\n",
        "            ax.annotate(\n",
        "                i, \n",
        "                xy=(self.y_predict[i], residual_norm_abs_sqrt[i]), \n",
        "                color='C3')\n",
        "        ax.set_title('Scale-Location', fontweight=\"bold\")\n",
        "        ax.set_xlabel('Fitted values')\n",
        "        ax.set_ylabel(r'$\\sqrt{|\\mathrm{Standardized\\ Residuals}|}$');\n",
        "        return ax\n",
        "\n",
        "    def leverage_plot(self, ax=None):\n",
        "        \"\"\"\n",
        "        Residual vs Leverage plot\n",
        "\n",
        "        Points falling outside Cook's distance curves are considered observation that can sway the fit\n",
        "        aka are influential.\n",
        "        Good to have none outside the curves.\n",
        "        \"\"\"\n",
        "        if ax is None:\n",
        "            fig, ax = plt.subplots()\n",
        "\n",
        "        ax.scatter(\n",
        "            self.leverage, \n",
        "            self.residual_norm, \n",
        "            alpha=0.5);\n",
        "        \n",
        "        sns.regplot(\n",
        "            x=self.leverage, \n",
        "            y=self.residual_norm,\n",
        "            scatter=False,\n",
        "            ci=False,\n",
        "            lowess=True,\n",
        "            line_kws={'color': 'red', 'lw': 1, 'alpha': 0.8},\n",
        "            ax=ax)\n",
        "\n",
        "        # annotations\n",
        "        leverage_top_3 = np.flip(np.argsort(self.cooks_distance), 0)[:3]\n",
        "        for i in leverage_top_3:\n",
        "            ax.annotate(\n",
        "                i, \n",
        "                xy=(self.leverage[i], self.residual_norm[i]),\n",
        "                color = 'C3')\n",
        "\n",
        "        xtemp, ytemp = self.__cooks_dist_line(0.5) # 0.5 line\n",
        "        ax.plot(xtemp, ytemp, label=\"Cook's distance\", lw=1, ls='--', color='red')\n",
        "        xtemp, ytemp = self.__cooks_dist_line(1) # 1 line\n",
        "        ax.plot(xtemp, ytemp, lw=1, ls='--', color='red')\n",
        "        \n",
        "        ax.set_xlim(0, max(self.leverage)+0.01)\n",
        "        ax.set_title('Residuals vs Leverage', fontweight=\"bold\")\n",
        "        ax.set_xlabel('Leverage')\n",
        "        ax.set_ylabel('Standardized Residuals')\n",
        "        ax.legend(loc='upper right')\n",
        "        return ax\n",
        "\n",
        "    def vif_table(self):\n",
        "        \"\"\"\n",
        "        VIF table\n",
        "\n",
        "        VIF, the variance inflation factor, is a measure of multicollinearity.\n",
        "        VIF > 5 for a variable indicates that it is highly collinear with the \n",
        "        other input variables.\n",
        "        \"\"\"\n",
        "        vif_df = pd.DataFrame()\n",
        "        vif_df[\"Features\"] = self.xvar_names\n",
        "        vif_df[\"VIF Factor\"] = [variance_inflation_factor(self.xvar, i) for i in range(self.xvar.shape[1])]\n",
        "\n",
        "        print(vif_df\n",
        "                .sort_values(\"VIF Factor\")\n",
        "                .round(2))\n",
        "        \n",
        "\n",
        "    def __cooks_dist_line(self, factor):\n",
        "        \"\"\"\n",
        "        Helper function for plotting Cook's distance curves\n",
        "        \"\"\"\n",
        "        p = self.nparams \n",
        "        formula = lambda x: np.sqrt((factor * p * (1 - x)) / x)\n",
        "        x = np.linspace(0.001, max(self.leverage), 50)\n",
        "        y = formula(x)\n",
        "        return x, y"
      ],
      "metadata": {
        "id": "WP1jqGdN2IOe"
      },
      "execution_count": 6,
      "outputs": []
    },
    {
      "cell_type": "code",
      "source": [
        "cls = Linear_Reg_Diagnostic(res)"
      ],
      "metadata": {
        "id": "tvXgDcTL2Ssj"
      },
      "execution_count": 7,
      "outputs": []
    },
    {
      "cell_type": "markdown",
      "source": [
        "### Residuals vs. Fitted"
      ],
      "metadata": {
        "id": "SUcupJd95XYe"
      }
    },
    {
      "cell_type": "code",
      "source": [
        "cls.residual_plot();"
      ],
      "metadata": {
        "colab": {
          "base_uri": "https://localhost:8080/",
          "height": 295
        },
        "id": "QeET5ppF2VmV",
        "outputId": "1e286d02-397a-4b84-bea9-cd73fc01605b"
      },
      "execution_count": 8,
      "outputs": [
        {
          "output_type": "display_data",
          "data": {
            "text/plain": [
              "<Figure size 432x288 with 1 Axes>"
            ],
            "image/png": "[encoded data removed]"
          },
          "metadata": {
            "needs_background": "light"
          }
        }
      ]
    },
    {
      "cell_type": "markdown",
      "source": [
        "### Scale-Location (Homogeneity of variance)"
      ],
      "metadata": {
        "id": "Zof14gf_5j5S"
      }
    },
    {
      "cell_type": "code",
      "source": [
        "cls.scale_location_plot();"
      ],
      "metadata": {
        "colab": {
          "base_uri": "https://localhost:8080/",
          "height": 295
        },
        "id": "rxgrV3pr5pwe",
        "outputId": "29dd3f68-99f1-4acb-c382-8ea40d1666d2"
      },
      "execution_count": 9,
      "outputs": [
        {
          "output_type": "display_data",
          "data": {
            "text/plain": [
              "<Figure size 432x288 with 1 Axes>"
            ],
            "image/png": "[encoded data removed]"
          },
          "metadata": {
            "needs_background": "light"
          }
        }
      ]
    },
    {
      "cell_type": "markdown",
      "source": [
        "### Normality of residuals (Q-Q Plot)"
      ],
      "metadata": {
        "id": "DB8iD-PF5zeY"
      }
    },
    {
      "cell_type": "code",
      "source": [
        "cls.qq_plot()"
      ],
      "metadata": {
        "id": "TBEMySI82uWl",
        "outputId": "356392b9-66e5-43f4-8c30-eab60b080b9f",
        "colab": {
          "base_uri": "https://localhost:8080/",
          "height": 312
        }
      },
      "execution_count": 10,
      "outputs": [
        {
          "output_type": "execute_result",
          "data": {
            "text/plain": [
              "<matplotlib.axes._subplots.AxesSubplot at 0x7f95134b2ed0>"
            ]
          },
          "metadata": {},
          "execution_count": 10
        },
        {
          "output_type": "display_data",
          "data": {
            "text/plain": [
              "<Figure size 432x288 with 1 Axes>"
            ],
            "image/png": "[encoded data removed]"
          },
          "metadata": {
            "needs_background": "light"
          }
        }
      ]
    },
    {
      "cell_type": "markdown",
      "source": [
        "### Leverage points and Outliers"
      ],
      "metadata": {
        "id": "CKh1gN_B5_Vv"
      }
    },
    {
      "cell_type": "code",
      "source": [
        "cls.leverage_plot();"
      ],
      "metadata": {
        "colab": {
          "base_uri": "https://localhost:8080/",
          "height": 295
        },
        "id": "93_K5D1R6Af5",
        "outputId": "90ab8ef6-7092-4f54-9a16-238333278a41"
      },
      "execution_count": 11,
      "outputs": [
        {
          "output_type": "display_data",
          "data": {
            "text/plain": [
              "<Figure size 432x288 with 1 Axes>"
            ],
            "image/png": "[encoded data removed]"
          },
          "metadata": {
            "needs_background": "light"
          }
        }
      ]
    },
    {
      "cell_type": "markdown",
      "source": [
        "### Bonus: VIF table\n",
        "\n",
        "The variance inflation factor (VIF), is a measure of multicollinearity.\n",
        "\n",
        "VIF > 5 indicates that this variable is highly collinear with the other input variables."
      ],
      "metadata": {
        "id": "jIREsFmL62Tk"
      }
    },
    {
      "cell_type": "code",
      "source": [
        "cls.vif_table()"
      ],
      "metadata": {
        "colab": {
          "base_uri": "https://localhost:8080/"
        },
        "id": "j9lduwhv6z9B",
        "outputId": "d6a215b3-291a-4250-a473-3334909373cd"
      },
      "execution_count": 12,
      "outputs": [
        {
          "output_type": "stream",
          "name": "stdout",
          "text": [
            "  Features  VIF Factor\n",
            "6       x6        1.01\n",
            "5       x5        1.14\n",
            "2       x2        1.24\n",
            "1       x1        2.50\n",
            "4       x4        6.99\n",
            "3       x3        8.34\n",
            "8       x8        8.96\n",
            "7       x7        9.30\n",
            "0    const    17082.62\n"
          ]
        }
      ]
    }
  ]
}